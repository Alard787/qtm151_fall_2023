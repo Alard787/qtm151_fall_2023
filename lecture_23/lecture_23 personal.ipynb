{
 "cells": [
  {
   "attachments": {},
   "cell_type": "markdown",
   "metadata": {},
   "source": [
    "# <span style=\"color:darkblue\"> Lecture 23 - Text Data  </span>\n",
    "\n",
    "<font size = \"5\">\n",
    "\n",
    "In  this lecture we will work with text data"
   ]
  },
  {
   "attachments": {},
   "cell_type": "markdown",
   "metadata": {},
   "source": [
    "<font size = \"5\">\n",
    "\n",
    "Import Libraries"
   ]
  },
  {
   "cell_type": "code",
   "execution_count": 20,
   "metadata": {},
   "outputs": [],
   "source": [
    "import pandas as pd"
   ]
  },
  {
   "cell_type": "markdown",
   "metadata": {},
   "source": [
    "<font size = \"5\">\n",
    "\n",
    "Import Data\n",
    "\n",
    "- Congressional bills in the United States"
   ]
  },
  {
   "cell_type": "code",
   "execution_count": 21,
   "metadata": {},
   "outputs": [
    {
     "data": {
      "text/plain": [
       "Congress        int64\n",
       "bill_number     int64\n",
       "bill_type      object\n",
       "action         object\n",
       "main_action    object\n",
       "category       object\n",
       "member_id       int64\n",
       "dtype: object"
      ]
     },
     "execution_count": 21,
     "metadata": {},
     "output_type": "execute_result"
    }
   ],
   "source": [
    "bills_actions = pd.read_csv(\"data_raw/bills_actions.csv\")\n",
    "bills_actions.dtypes"
   ]
  },
  {
   "cell_type": "markdown",
   "metadata": {},
   "source": [
    "# <span style=\"color:darkblue\"> II. Basic Text Operations </span>"
   ]
  },
  {
   "cell_type": "markdown",
   "metadata": {},
   "source": [
    "<font size = \"5\">\n",
    "\n",
    "Count Frequency"
   ]
  },
  {
   "cell_type": "code",
   "execution_count": 22,
   "metadata": {},
   "outputs": [
    {
     "data": {
      "text/plain": [
       "category\n",
       "amendment                       1529\n",
       "house bill                       902\n",
       "senate bill                      514\n",
       "house resolution                 234\n",
       "senate resolution                 60\n",
       "house joint resolution            22\n",
       "house concurrent resolution       20\n",
       "senate concurrent resolution      14\n",
       "senate joint resolution            8\n",
       "Name: count, dtype: int64"
      ]
     },
     "execution_count": 22,
     "metadata": {},
     "output_type": "execute_result"
    }
   ],
   "source": [
    "bills_actions[\"category\"].value_counts()"
   ]
  },
  {
   "cell_type": "code",
   "execution_count": 23,
   "metadata": {},
   "outputs": [
    {
     "data": {
      "text/plain": [
       "array(['amendment', 'senate bill', 'house bill',\n",
       "       'senate concurrent resolution', 'senate joint resolution',\n",
       "       'senate resolution', 'house concurrent resolution',\n",
       "       'house joint resolution', 'house resolution'], dtype=object)"
      ]
     },
     "execution_count": 23,
     "metadata": {},
     "output_type": "execute_result"
    }
   ],
   "source": [
    "bills_actions['category'].unique()"
   ]
  },
  {
   "cell_type": "markdown",
   "metadata": {},
   "source": [
    "<font size = \"5\">\n",
    "\n",
    "Subset text categories"
   ]
  },
  {
   "cell_type": "code",
   "execution_count": 24,
   "metadata": {},
   "outputs": [
    {
     "data": {
      "text/plain": [
       "category\n",
       "house bill     902\n",
       "senate bill    514\n",
       "Name: count, dtype: int64"
      ]
     },
     "execution_count": 24,
     "metadata": {},
     "output_type": "execute_result"
    }
   ],
   "source": [
    "# For this analysis we are only interested in bills. With \".query()\" ...\n",
    "#     - We select all entries in the column called \"category\" \n",
    "#       which have values contain in \"list_categories\"\n",
    "#     - \"in\" is used to test whether a word belongs to a list\n",
    "#     - @ is the syntax to reference \"global\" variables that\n",
    "#       are defined in the global environment\n",
    "\n",
    "list_categories = [\"house bill\",\"senate bill\"]\n",
    "bills = bills_actions.query('category in @list_categories') # Select rows\n",
    "                                                            # with those values in 'category'\n",
    "\n",
    "# Verify that the code worked:\n",
    "bills[\"category\"].value_counts()\n"
   ]
  },
  {
   "cell_type": "markdown",
   "metadata": {},
   "source": [
    "<font size = \"5\">\n",
    "\n",
    "Data manipulation with sentences"
   ]
  },
  {
   "cell_type": "code",
   "execution_count": 34,
   "metadata": {},
   "outputs": [
    {
     "data": {
      "text/html": [
       "<div>\n",
       "<style scoped>\n",
       "    .dataframe tbody tr th:only-of-type {\n",
       "        vertical-align: middle;\n",
       "    }\n",
       "\n",
       "    .dataframe tbody tr th {\n",
       "        vertical-align: top;\n",
       "    }\n",
       "\n",
       "    .dataframe thead th {\n",
       "        text-align: right;\n",
       "    }\n",
       "</style>\n",
       "<table border=\"1\" class=\"dataframe\">\n",
       "  <thead>\n",
       "    <tr style=\"text-align: right;\">\n",
       "      <th></th>\n",
       "      <th>Congress</th>\n",
       "      <th>bill_number</th>\n",
       "      <th>bill_type</th>\n",
       "      <th>action</th>\n",
       "      <th>main_action</th>\n",
       "      <th>category</th>\n",
       "      <th>member_id</th>\n",
       "    </tr>\n",
       "  </thead>\n",
       "  <tbody>\n",
       "    <tr>\n",
       "      <th>3</th>\n",
       "      <td>116</td>\n",
       "      <td>1199</td>\n",
       "      <td>s</td>\n",
       "      <td>Committee on Health, Education, Labor, and Pen...</td>\n",
       "      <td>senate committee/subcommittee actions</td>\n",
       "      <td>senate bill</td>\n",
       "      <td>1561</td>\n",
       "    </tr>\n",
       "    <tr>\n",
       "      <th>4</th>\n",
       "      <td>116</td>\n",
       "      <td>1208</td>\n",
       "      <td>s</td>\n",
       "      <td>Committee on the Judiciary. Reported by Senato...</td>\n",
       "      <td>senate committee/subcommittee actions</td>\n",
       "      <td>senate bill</td>\n",
       "      <td>1580</td>\n",
       "    </tr>\n",
       "    <tr>\n",
       "      <th>5</th>\n",
       "      <td>116</td>\n",
       "      <td>1231</td>\n",
       "      <td>s</td>\n",
       "      <td>Committee on the Judiciary. Reported by Senato...</td>\n",
       "      <td>senate committee/subcommittee actions</td>\n",
       "      <td>senate bill</td>\n",
       "      <td>1580</td>\n",
       "    </tr>\n",
       "    <tr>\n",
       "      <th>6</th>\n",
       "      <td>116</td>\n",
       "      <td>1228</td>\n",
       "      <td>s</td>\n",
       "      <td>Committee on Commerce, Science, and Transporta...</td>\n",
       "      <td>senate committee/subcommittee actions</td>\n",
       "      <td>senate bill</td>\n",
       "      <td>1002</td>\n",
       "    </tr>\n",
       "    <tr>\n",
       "      <th>7</th>\n",
       "      <td>116</td>\n",
       "      <td>123</td>\n",
       "      <td>s</td>\n",
       "      <td>Committee on Veterans' Affairs. Reported by Se...</td>\n",
       "      <td>senate committee/subcommittee actions</td>\n",
       "      <td>senate bill</td>\n",
       "      <td>1490</td>\n",
       "    </tr>\n",
       "    <tr>\n",
       "      <th>...</th>\n",
       "      <td>...</td>\n",
       "      <td>...</td>\n",
       "      <td>...</td>\n",
       "      <td>...</td>\n",
       "      <td>...</td>\n",
       "      <td>...</td>\n",
       "      <td>...</td>\n",
       "    </tr>\n",
       "    <tr>\n",
       "      <th>2944</th>\n",
       "      <td>116</td>\n",
       "      <td>617</td>\n",
       "      <td>hr</td>\n",
       "      <td>Committee on Energy and Natural Resources. Rep...</td>\n",
       "      <td>senate committee/subcommittee actions</td>\n",
       "      <td>house bill</td>\n",
       "      <td>1581</td>\n",
       "    </tr>\n",
       "    <tr>\n",
       "      <th>3081</th>\n",
       "      <td>116</td>\n",
       "      <td>762</td>\n",
       "      <td>hr</td>\n",
       "      <td>Committee on Energy and Natural Resources. Rep...</td>\n",
       "      <td>senate committee/subcommittee actions</td>\n",
       "      <td>house bill</td>\n",
       "      <td>1581</td>\n",
       "    </tr>\n",
       "    <tr>\n",
       "      <th>3142</th>\n",
       "      <td>116</td>\n",
       "      <td>828</td>\n",
       "      <td>hr</td>\n",
       "      <td>Committee on Homeland Security and Governmenta...</td>\n",
       "      <td>senate committee/subcommittee actions</td>\n",
       "      <td>house bill</td>\n",
       "      <td>1701</td>\n",
       "    </tr>\n",
       "    <tr>\n",
       "      <th>3150</th>\n",
       "      <td>116</td>\n",
       "      <td>829</td>\n",
       "      <td>hr</td>\n",
       "      <td>Committee on Homeland Security and Governmenta...</td>\n",
       "      <td>senate committee/subcommittee actions</td>\n",
       "      <td>house bill</td>\n",
       "      <td>1701</td>\n",
       "    </tr>\n",
       "    <tr>\n",
       "      <th>3195</th>\n",
       "      <td>116</td>\n",
       "      <td>887</td>\n",
       "      <td>hr</td>\n",
       "      <td>Committee on Homeland Security and Governmenta...</td>\n",
       "      <td>senate committee/subcommittee actions</td>\n",
       "      <td>house bill</td>\n",
       "      <td>1701</td>\n",
       "    </tr>\n",
       "  </tbody>\n",
       "</table>\n",
       "<p>453 rows × 7 columns</p>\n",
       "</div>"
      ],
      "text/plain": [
       "      Congress  bill_number bill_type  \\\n",
       "3          116         1199         s   \n",
       "4          116         1208         s   \n",
       "5          116         1231         s   \n",
       "6          116         1228         s   \n",
       "7          116          123         s   \n",
       "...        ...          ...       ...   \n",
       "2944       116          617        hr   \n",
       "3081       116          762        hr   \n",
       "3142       116          828        hr   \n",
       "3150       116          829        hr   \n",
       "3195       116          887        hr   \n",
       "\n",
       "                                                 action  \\\n",
       "3     Committee on Health, Education, Labor, and Pen...   \n",
       "4     Committee on the Judiciary. Reported by Senato...   \n",
       "5     Committee on the Judiciary. Reported by Senato...   \n",
       "6     Committee on Commerce, Science, and Transporta...   \n",
       "7     Committee on Veterans' Affairs. Reported by Se...   \n",
       "...                                                 ...   \n",
       "2944  Committee on Energy and Natural Resources. Rep...   \n",
       "3081  Committee on Energy and Natural Resources. Rep...   \n",
       "3142  Committee on Homeland Security and Governmenta...   \n",
       "3150  Committee on Homeland Security and Governmenta...   \n",
       "3195  Committee on Homeland Security and Governmenta...   \n",
       "\n",
       "                                main_action     category  member_id  \n",
       "3     senate committee/subcommittee actions  senate bill       1561  \n",
       "4     senate committee/subcommittee actions  senate bill       1580  \n",
       "5     senate committee/subcommittee actions  senate bill       1580  \n",
       "6     senate committee/subcommittee actions  senate bill       1002  \n",
       "7     senate committee/subcommittee actions  senate bill       1490  \n",
       "...                                     ...          ...        ...  \n",
       "2944  senate committee/subcommittee actions   house bill       1581  \n",
       "3081  senate committee/subcommittee actions   house bill       1581  \n",
       "3142  senate committee/subcommittee actions   house bill       1701  \n",
       "3150  senate committee/subcommittee actions   house bill       1701  \n",
       "3195  senate committee/subcommittee actions   house bill       1701  \n",
       "\n",
       "[453 rows x 7 columns]"
      ]
     },
     "execution_count": 34,
     "metadata": {},
     "output_type": "execute_result"
    }
   ],
   "source": [
    "bills[bills[\"action\"].str.contains(\"Senator\")] #put boolean argument into [] of dataset"
   ]
  },
  {
   "cell_type": "code",
   "execution_count": 26,
   "metadata": {},
   "outputs": [
    {
     "name": "stdout",
     "output_type": "stream",
     "text": [
      "0.3199152542372881\n"
     ]
    },
    {
     "data": {
      "text/plain": [
       "3       Committee on Health, Education, Labor, and Pen...\n",
       "4       Committee on the Judiciary. Reported by Custom...\n",
       "5       Committee on the Judiciary. Reported by Custom...\n",
       "6       Committee on Commerce, Science, and Transporta...\n",
       "7       Committee on Veterans' Affairs. Reported by Cu...\n",
       "                              ...                        \n",
       "3262    Mr. Blumenauer moved to suspend the rules and ...\n",
       "3263    At the conclusion of debate, the chair put the...\n",
       "3264    Ms. Hill (CA) moved to suspend the rules and p...\n",
       "3265    Mr. Barr moved to recommit with instructions t...\n",
       "3280           Mr. Pallone moved that the Committee rise.\n",
       "Name: action, Length: 1416, dtype: object"
      ]
     },
     "execution_count": 26,
     "metadata": {},
     "output_type": "execute_result"
    }
   ],
   "source": [
    "# select rows; with word \"Senator\" in 'action\n",
    "bool_contains = bills[\"action\"].str.contains(\"Senator\")\n",
    "print(bool_contains.mean()) # 31.99%\n",
    "\n",
    "# Replace the word \"Senator\" with \"Custom Title\" in 'action' column\n",
    "bills[\"action\"].str.replace(\"Senator\",\"Custom Title\")"
   ]
  },
  {
   "cell_type": "markdown",
   "metadata": {},
   "source": [
    "<font size = \"5\">\n",
    "\n",
    "Try it yourself!\n",
    "\n",
    "- Obtain a new dataset called \"resolutions\" <br>\n",
    " which subsets rows contain the \"category\" values:\n",
    "\n",
    " ``` [\"house resolution\",\"senate resolution\"] ```"
   ]
  },
  {
   "cell_type": "code",
   "execution_count": 36,
   "metadata": {},
   "outputs": [],
   "source": [
    "# Write your own code\n",
    "resolution_list = ['house resolution','senate resolution']\n",
    "resolutions = bills_actions.query('category in @resolution_list')"
   ]
  },
  {
   "attachments": {},
   "cell_type": "markdown",
   "metadata": {},
   "source": [
    "# <span style=\"color:darkblue\"> III. Regular Expressions </span>\n",
    "\n",
    "<font size = \"5\">\n",
    "\n",
    "Regular expressions enable advanced searching <br>\n",
    "for string data."
   ]
  },
  {
   "cell_type": "code",
   "execution_count": 38,
   "metadata": {},
   "outputs": [],
   "source": [
    "dataset = pd.read_csv(\"data_raw/bills_actions.csv\")\n",
    "senate_bills = dataset.query('category == \"senate bill\"') #rows with \"senate bill\" category\n",
    "amendments = dataset.query('category == \"amendment\"')"
   ]
  },
  {
   "cell_type": "code",
   "execution_count": 40,
   "metadata": {},
   "outputs": [
    {
     "data": {
      "text/html": [
       "<div>\n",
       "<style scoped>\n",
       "    .dataframe tbody tr th:only-of-type {\n",
       "        vertical-align: middle;\n",
       "    }\n",
       "\n",
       "    .dataframe tbody tr th {\n",
       "        vertical-align: top;\n",
       "    }\n",
       "\n",
       "    .dataframe thead th {\n",
       "        text-align: right;\n",
       "    }\n",
       "</style>\n",
       "<table border=\"1\" class=\"dataframe\">\n",
       "  <thead>\n",
       "    <tr style=\"text-align: right;\">\n",
       "      <th></th>\n",
       "      <th>Congress</th>\n",
       "      <th>bill_number</th>\n",
       "      <th>bill_type</th>\n",
       "      <th>action</th>\n",
       "      <th>main_action</th>\n",
       "      <th>category</th>\n",
       "      <th>member_id</th>\n",
       "    </tr>\n",
       "  </thead>\n",
       "  <tbody>\n",
       "    <tr>\n",
       "      <th>800</th>\n",
       "      <td>116</td>\n",
       "      <td>105</td>\n",
       "      <td>hconres</td>\n",
       "      <td>Ms. Fudge asked unanimous consent to consider ...</td>\n",
       "      <td>house floor actions</td>\n",
       "      <td>house concurrent resolution</td>\n",
       "      <td>755</td>\n",
       "    </tr>\n",
       "    <tr>\n",
       "      <th>801</th>\n",
       "      <td>116</td>\n",
       "      <td>107</td>\n",
       "      <td>hconres</td>\n",
       "      <td>Mr. Clyburn asked unanimous consent to conside...</td>\n",
       "      <td>house floor actions</td>\n",
       "      <td>house concurrent resolution</td>\n",
       "      <td>504</td>\n",
       "    </tr>\n",
       "    <tr>\n",
       "      <th>802</th>\n",
       "      <td>116</td>\n",
       "      <td>106</td>\n",
       "      <td>hconres</td>\n",
       "      <td>Mr. Butterfield asked unanimous consent to con...</td>\n",
       "      <td>house floor actions</td>\n",
       "      <td>house concurrent resolution</td>\n",
       "      <td>397</td>\n",
       "    </tr>\n",
       "    <tr>\n",
       "      <th>803</th>\n",
       "      <td>116</td>\n",
       "      <td>127</td>\n",
       "      <td>hconres</td>\n",
       "      <td>Mrs. Lowey asked unanimous consent to consider...</td>\n",
       "      <td>house floor actions</td>\n",
       "      <td>house concurrent resolution</td>\n",
       "      <td>871</td>\n",
       "    </tr>\n",
       "    <tr>\n",
       "      <th>804</th>\n",
       "      <td>116</td>\n",
       "      <td>125</td>\n",
       "      <td>hconres</td>\n",
       "      <td>Mr. Clay asked unanimous consent to consider a...</td>\n",
       "      <td>house floor actions</td>\n",
       "      <td>house concurrent resolution</td>\n",
       "      <td>1806</td>\n",
       "    </tr>\n",
       "    <tr>\n",
       "      <th>805</th>\n",
       "      <td>116</td>\n",
       "      <td>128</td>\n",
       "      <td>hconres</td>\n",
       "      <td>Mrs. Lowey asked unanimous consent to consider...</td>\n",
       "      <td>house floor actions</td>\n",
       "      <td>house concurrent resolution</td>\n",
       "      <td>871</td>\n",
       "    </tr>\n",
       "    <tr>\n",
       "      <th>808</th>\n",
       "      <td>116</td>\n",
       "      <td>21</td>\n",
       "      <td>hconres</td>\n",
       "      <td>Mr. Grijalva asked unanimous consent to consid...</td>\n",
       "      <td>house floor actions</td>\n",
       "      <td>house concurrent resolution</td>\n",
       "      <td>938</td>\n",
       "    </tr>\n",
       "    <tr>\n",
       "      <th>811</th>\n",
       "      <td>116</td>\n",
       "      <td>45</td>\n",
       "      <td>hconres</td>\n",
       "      <td>Ms. Waters asked unanimous consent to consider...</td>\n",
       "      <td>house floor actions</td>\n",
       "      <td>house concurrent resolution</td>\n",
       "      <td>804</td>\n",
       "    </tr>\n",
       "    <tr>\n",
       "      <th>813</th>\n",
       "      <td>116</td>\n",
       "      <td>72</td>\n",
       "      <td>hconres</td>\n",
       "      <td>Ms. Garcia (TX) asked unanimous consent to con...</td>\n",
       "      <td>house floor actions</td>\n",
       "      <td>house concurrent resolution</td>\n",
       "      <td>1745</td>\n",
       "    </tr>\n",
       "    <tr>\n",
       "      <th>814</th>\n",
       "      <td>116</td>\n",
       "      <td>75</td>\n",
       "      <td>hconres</td>\n",
       "      <td>Mrs. Lowey asked unanimous consent to consider...</td>\n",
       "      <td>house floor actions</td>\n",
       "      <td>house concurrent resolution</td>\n",
       "      <td>871</td>\n",
       "    </tr>\n",
       "    <tr>\n",
       "      <th>815</th>\n",
       "      <td>116</td>\n",
       "      <td>82</td>\n",
       "      <td>hconres</td>\n",
       "      <td>Mrs. Lowey asked unanimous consent to consider...</td>\n",
       "      <td>house floor actions</td>\n",
       "      <td>house concurrent resolution</td>\n",
       "      <td>871</td>\n",
       "    </tr>\n",
       "    <tr>\n",
       "      <th>816</th>\n",
       "      <td>116</td>\n",
       "      <td>81</td>\n",
       "      <td>hconres</td>\n",
       "      <td>Mrs. Lowey asked unanimous consent to consider...</td>\n",
       "      <td>house floor actions</td>\n",
       "      <td>house concurrent resolution</td>\n",
       "      <td>871</td>\n",
       "    </tr>\n",
       "    <tr>\n",
       "      <th>885</th>\n",
       "      <td>116</td>\n",
       "      <td>1233</td>\n",
       "      <td>hres</td>\n",
       "      <td>Mr. Hoyer asked unanimous consent to consider ...</td>\n",
       "      <td>house floor actions</td>\n",
       "      <td>house resolution</td>\n",
       "      <td>1065</td>\n",
       "    </tr>\n",
       "    <tr>\n",
       "      <th>982</th>\n",
       "      <td>116</td>\n",
       "      <td>553</td>\n",
       "      <td>hres</td>\n",
       "      <td>Mr. McGovern asked unanimous consent to consid...</td>\n",
       "      <td>house floor actions</td>\n",
       "      <td>house resolution</td>\n",
       "      <td>515</td>\n",
       "    </tr>\n",
       "    <tr>\n",
       "      <th>1057</th>\n",
       "      <td>116</td>\n",
       "      <td>905</td>\n",
       "      <td>hres</td>\n",
       "      <td>Mr. Raskin asked unanimous consent to consider...</td>\n",
       "      <td>house floor actions</td>\n",
       "      <td>house resolution</td>\n",
       "      <td>521</td>\n",
       "    </tr>\n",
       "    <tr>\n",
       "      <th>1060</th>\n",
       "      <td>116</td>\n",
       "      <td>911</td>\n",
       "      <td>hres</td>\n",
       "      <td>Mr. Hoyer asked unanimous consent to consider ...</td>\n",
       "      <td>house floor actions</td>\n",
       "      <td>house resolution</td>\n",
       "      <td>1065</td>\n",
       "    </tr>\n",
       "    <tr>\n",
       "      <th>1125</th>\n",
       "      <td>116</td>\n",
       "      <td>1865</td>\n",
       "      <td>hr</td>\n",
       "      <td>ORDER OF BUSINESS - Mr. McGovern asked unanimo...</td>\n",
       "      <td>house committee/subcommittee actions</td>\n",
       "      <td>house bill</td>\n",
       "      <td>515</td>\n",
       "    </tr>\n",
       "    <tr>\n",
       "      <th>1442</th>\n",
       "      <td>116</td>\n",
       "      <td>6395</td>\n",
       "      <td>hr</td>\n",
       "      <td>ORDER OF PROCEDURE - Mr. McGovern asked unanim...</td>\n",
       "      <td>resolving differences -- house actions</td>\n",
       "      <td>house bill</td>\n",
       "      <td>515</td>\n",
       "    </tr>\n",
       "    <tr>\n",
       "      <th>2866</th>\n",
       "      <td>116</td>\n",
       "      <td>5430</td>\n",
       "      <td>hr</td>\n",
       "      <td>ORDER OF PROCEDURE - Ms. McCollum asked unanim...</td>\n",
       "      <td>house floor actions</td>\n",
       "      <td>house bill</td>\n",
       "      <td>1267</td>\n",
       "    </tr>\n",
       "  </tbody>\n",
       "</table>\n",
       "</div>"
      ],
      "text/plain": [
       "      Congress  bill_number bill_type  \\\n",
       "800        116          105   hconres   \n",
       "801        116          107   hconres   \n",
       "802        116          106   hconres   \n",
       "803        116          127   hconres   \n",
       "804        116          125   hconres   \n",
       "805        116          128   hconres   \n",
       "808        116           21   hconres   \n",
       "811        116           45   hconres   \n",
       "813        116           72   hconres   \n",
       "814        116           75   hconres   \n",
       "815        116           82   hconres   \n",
       "816        116           81   hconres   \n",
       "885        116         1233      hres   \n",
       "982        116          553      hres   \n",
       "1057       116          905      hres   \n",
       "1060       116          911      hres   \n",
       "1125       116         1865        hr   \n",
       "1442       116         6395        hr   \n",
       "2866       116         5430        hr   \n",
       "\n",
       "                                                 action  \\\n",
       "800   Ms. Fudge asked unanimous consent to consider ...   \n",
       "801   Mr. Clyburn asked unanimous consent to conside...   \n",
       "802   Mr. Butterfield asked unanimous consent to con...   \n",
       "803   Mrs. Lowey asked unanimous consent to consider...   \n",
       "804   Mr. Clay asked unanimous consent to consider a...   \n",
       "805   Mrs. Lowey asked unanimous consent to consider...   \n",
       "808   Mr. Grijalva asked unanimous consent to consid...   \n",
       "811   Ms. Waters asked unanimous consent to consider...   \n",
       "813   Ms. Garcia (TX) asked unanimous consent to con...   \n",
       "814   Mrs. Lowey asked unanimous consent to consider...   \n",
       "815   Mrs. Lowey asked unanimous consent to consider...   \n",
       "816   Mrs. Lowey asked unanimous consent to consider...   \n",
       "885   Mr. Hoyer asked unanimous consent to consider ...   \n",
       "982   Mr. McGovern asked unanimous consent to consid...   \n",
       "1057  Mr. Raskin asked unanimous consent to consider...   \n",
       "1060  Mr. Hoyer asked unanimous consent to consider ...   \n",
       "1125  ORDER OF BUSINESS - Mr. McGovern asked unanimo...   \n",
       "1442  ORDER OF PROCEDURE - Mr. McGovern asked unanim...   \n",
       "2866  ORDER OF PROCEDURE - Ms. McCollum asked unanim...   \n",
       "\n",
       "                                 main_action                     category  \\\n",
       "800                      house floor actions  house concurrent resolution   \n",
       "801                      house floor actions  house concurrent resolution   \n",
       "802                      house floor actions  house concurrent resolution   \n",
       "803                      house floor actions  house concurrent resolution   \n",
       "804                      house floor actions  house concurrent resolution   \n",
       "805                      house floor actions  house concurrent resolution   \n",
       "808                      house floor actions  house concurrent resolution   \n",
       "811                      house floor actions  house concurrent resolution   \n",
       "813                      house floor actions  house concurrent resolution   \n",
       "814                      house floor actions  house concurrent resolution   \n",
       "815                      house floor actions  house concurrent resolution   \n",
       "816                      house floor actions  house concurrent resolution   \n",
       "885                      house floor actions             house resolution   \n",
       "982                      house floor actions             house resolution   \n",
       "1057                     house floor actions             house resolution   \n",
       "1060                     house floor actions             house resolution   \n",
       "1125    house committee/subcommittee actions                   house bill   \n",
       "1442  resolving differences -- house actions                   house bill   \n",
       "2866                     house floor actions                   house bill   \n",
       "\n",
       "      member_id  \n",
       "800         755  \n",
       "801         504  \n",
       "802         397  \n",
       "803         871  \n",
       "804        1806  \n",
       "805         871  \n",
       "808         938  \n",
       "811         804  \n",
       "813        1745  \n",
       "814         871  \n",
       "815         871  \n",
       "816         871  \n",
       "885        1065  \n",
       "982         515  \n",
       "1057        521  \n",
       "1060       1065  \n",
       "1125        515  \n",
       "1442        515  \n",
       "2866       1267  "
      ]
     },
     "execution_count": 40,
     "metadata": {},
     "output_type": "execute_result"
    }
   ],
   "source": [
    "dataset[dataset['action'].str.contains('to consider')] #Find rows with phrase \"to consider\" in 'action"
   ]
  },
  {
   "cell_type": "code",
   "execution_count": 29,
   "metadata": {},
   "outputs": [
    {
     "data": {
      "text/plain": [
       "0       S.Amdt.1274 Amendment SA 1274 proposed by Sena...\n",
       "1       S.Amdt.2698 Amendment SA 2698 proposed by Sena...\n",
       "2       S.Amdt.2659 Amendment SA 2659 proposed by Sena...\n",
       "8       S.Amdt.2424 Amendment SA 2424 proposed by Sena...\n",
       "11      S.Amdt.1275 Amendment SA 1275 proposed by Sena...\n",
       "                              ...                        \n",
       "3298    H.Amdt.172 Amendment (A004) offered by Ms. Kus...\n",
       "3299    H.Amdt.171 Amendment (A003) offered by Ms. Hou...\n",
       "3300    H.Amdt.170 Amendment (A002) offered by Ms. Oma...\n",
       "3301    POSTPONED PROCEEDINGS - At the conclusion of d...\n",
       "3302    H.Amdt.169 Amendment (A001) offered by Mr. Esp...\n",
       "Name: action, Length: 1529, dtype: object"
      ]
     },
     "metadata": {},
     "output_type": "display_data"
    }
   ],
   "source": [
    "display(amendments[\"action\"])"
   ]
  },
  {
   "attachments": {},
   "cell_type": "markdown",
   "metadata": {},
   "source": [
    "<font size = \"5\">\n",
    "\n",
    "Search word"
   ]
  },
  {
   "cell_type": "code",
   "execution_count": 30,
   "metadata": {},
   "outputs": [
    {
     "data": {
      "text/plain": [
       "0       [Amdt.]\n",
       "1       [Amdt.]\n",
       "2       [Amdt.]\n",
       "8       [Amdt.]\n",
       "11      [Amdt.]\n",
       "         ...   \n",
       "3298    [Amdt.]\n",
       "3299    [Amdt.]\n",
       "3300    [Amdt.]\n",
       "3301         []\n",
       "3302    [Amdt.]\n",
       "Name: action, Length: 1529, dtype: object"
      ]
     },
     "execution_count": 30,
     "metadata": {},
     "output_type": "execute_result"
    }
   ],
   "source": [
    "# We use the \".str.findall()\" subfunction\n",
    "# The argument is an expression\n",
    "\n",
    "amendments[\"action\"].str.findall(\"Amdt\\.\") #containing word \"Amdt\""
   ]
  },
  {
   "attachments": {},
   "cell_type": "markdown",
   "metadata": {},
   "source": [
    "<font size = \"5\">\n",
    "\n",
    "Wildcards\n",
    "\n",
    "$\\quad$ <img src=\"figures/wildcards_regex1.png\" alt=\"drawing\" width=\"300\"/>"
   ]
  },
  {
   "cell_type": "code",
   "execution_count": 45,
   "metadata": {},
   "outputs": [
    {
     "data": {
      "text/plain": [
       "0       [S.Amdt.1274 Amendment]\n",
       "1       [S.Amdt.2698 Amendment]\n",
       "2       [S.Amdt.2659 Amendment]\n",
       "8       [S.Amdt.2424 Amendment]\n",
       "11      [S.Amdt.1275 Amendment]\n",
       "                 ...           \n",
       "3298    [H.Amdt.172 Amendment ]\n",
       "3299    [H.Amdt.171 Amendment ]\n",
       "3300    [H.Amdt.170 Amendment ]\n",
       "3301                         []\n",
       "3302    [H.Amdt.169 Amendment ]\n",
       "Name: action, Length: 1529, dtype: object"
      ]
     },
     "metadata": {},
     "output_type": "display_data"
    }
   ],
   "source": [
    "## IMPORTANT: YOU CAN ARRANGE THE WILDCARDS HOWEVER YOU LIKE, JUST NEED \"\\\"\n",
    "## EXAMPE: ADMT\\.....\\D\n",
    "# Get digits after string\n",
    "example1 = amendments[\"action\"].str.findall(\"Amdt\\..\")\n",
    "\n",
    "# Get any character before string\n",
    "example2 = amendments[\"action\"].str.findall(\".Amdt\\.\")\n",
    "\n",
    "# Get two characters before string\n",
    "example3 = amendments[\"action\"].str.findall(\"..Amdt\\...............\") #enough space for all character before and after\n",
    "\n",
    "# display(example1)\n",
    "# display(example2)\n",
    "display(example3)"
   ]
  },
  {
   "attachments": {},
   "cell_type": "markdown",
   "metadata": {},
   "source": [
    "<font size = \"5\">\n",
    "\n",
    "Wildcards + Quantifiers\n",
    "\n",
    "$\\quad$ <img src=\"figures/wildcards_regex2.png\" alt=\"drawing\" width=\"300\"/>"
   ]
  },
  {
   "cell_type": "code",
   "execution_count": 32,
   "metadata": {},
   "outputs": [
    {
     "data": {
      "text/plain": [
       "0       [S.Amdt.]\n",
       "1       [S.Amdt.]\n",
       "2       [S.Amdt.]\n",
       "8       [S.Amdt.]\n",
       "11      [S.Amdt.]\n",
       "          ...    \n",
       "3298    [H.Amdt.]\n",
       "3299    [H.Amdt.]\n",
       "3300    [H.Amdt.]\n",
       "3301           []\n",
       "3302    [H.Amdt.]\n",
       "Name: action, Length: 1529, dtype: object"
      ]
     },
     "metadata": {},
     "output_type": "display_data"
    }
   ],
   "source": [
    "# Get all consecutive digits after string\n",
    "example4 = amendments[\"action\"].str.findall(\"Amdt\\.\\d*\") #All digit comes after \".\", before anything non-digit\n",
    "## A \".\" IS NOT A DIGIT\n",
    "## When use S (non-space) -> No need for \"\\.\\\"\n",
    "\n",
    "# Get all consecutive characters before string\n",
    "example5 = amendments[\"action\"].str.findall(\".*Amdt\\.\") # All charcaters before \"Amdt\"\n",
    "\n",
    "#display(example4)\n",
    "display(example5)\n"
   ]
  },
  {
   "cell_type": "code",
   "execution_count": 46,
   "metadata": {},
   "outputs": [
    {
     "data": {
      "text/plain": [
       "0       [Amdt.1274]\n",
       "1       [Amdt.2698]\n",
       "2       [Amdt.2659]\n",
       "8       [Amdt.2424]\n",
       "11      [Amdt.1275]\n",
       "           ...     \n",
       "3298     [Amdt.172]\n",
       "3299     [Amdt.171]\n",
       "3300     [Amdt.170]\n",
       "3301             []\n",
       "3302     [Amdt.169]\n",
       "Name: action, Length: 1529, dtype: object"
      ]
     },
     "metadata": {},
     "output_type": "display_data"
    }
   ],
   "source": [
    "display(example4)"
   ]
  },
  {
   "attachments": {},
   "cell_type": "markdown",
   "metadata": {},
   "source": [
    "<font size = \"5\">\n",
    "\n",
    "Try it yourself\n",
    "\n",
    "- Practice using the ```senate_bills``` dataset\n",
    "- Use ```.str.findall()``` to find the word \"Senator\"\n",
    "- Use the regular expression ```\"Senator \\S``` to extract <br>\n",
    " the the first letter of senator\n",
    "- Use ```*``` to extract senator names"
   ]
  },
  {
   "cell_type": "code",
   "execution_count": 51,
   "metadata": {},
   "outputs": [
    {
     "data": {
      "text/plain": [
       "3      [Senator Alexander]\n",
       "4         [Senator Graham]\n",
       "5         [Senator Graham]\n",
       "6         [Senator Wicker]\n",
       "7          [Senator Moran]\n",
       "              ...         \n",
       "795      [Senator Johnson]\n",
       "796                     []\n",
       "797       [Senator Hoeven]\n",
       "798                     []\n",
       "799       [Senator Graham]\n",
       "Name: action, Length: 514, dtype: object"
      ]
     },
     "execution_count": 51,
     "metadata": {},
     "output_type": "execute_result"
    }
   ],
   "source": [
    "# Write your own code\n",
    "senate_bills['action'].str.findall('Senator \\S*') # There is always space after word senator -> empty\n",
    "                                                  # Put a space in!"
   ]
  }
 ],
 "metadata": {
  "kernelspec": {
   "display_name": "base",
   "language": "python",
   "name": "python3"
  },
  "language_info": {
   "codemirror_mode": {
    "name": "ipython",
    "version": 3
   },
   "file_extension": ".py",
   "mimetype": "text/x-python",
   "name": "python",
   "nbconvert_exporter": "python",
   "pygments_lexer": "ipython3",
   "version": "3.11.6"
  },
  "orig_nbformat": 4
 },
 "nbformat": 4,
 "nbformat_minor": 2
}
